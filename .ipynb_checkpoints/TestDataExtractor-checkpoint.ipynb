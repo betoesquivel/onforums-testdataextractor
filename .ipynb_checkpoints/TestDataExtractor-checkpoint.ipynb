{
 "cells": [
  {
   "cell_type": "markdown",
   "metadata": {},
   "source": [
    "# Clustering test data and evaluating clustering technique with it"
   ]
  },
  {
   "cell_type": "code",
   "execution_count": 7,
   "metadata": {
    "collapsed": false
   },
   "outputs": [
    {
     "name": "stdout",
     "output_type": "stream",
     "text": [
      "<comment bloggerid=\"epinoa\" id=\"c0\">\n",
      "<s id=\"s57\">[epinoa] So BT and Vodafone breached the Data Protection Act ? </s>\n",
      "<comment bloggerid=\"enfrance \" id=\"c1\">\n",
      "<s id=\"s58\">[enfrance ] Is this Atlantic Bridge in operation ? </s>\n",
      "</comment>\n",
      "<comment bloggerid=\"alex442\" id=\"c2\">\n",
      "<s id=\"s59\">[alex442] Human Rights ? </s>\n",
      "<s id=\"s60\">Aww , how quaint ... </s>\n",
      "</comment>\n",
      "<comment bloggerid=\"nitpiqin \" id=\"c3\">\n",
      "<s id=\"s61\">[nitpiqin ] That 's what we need to judge them and prosecute them with their own laws . </s>\n",
      "<s id=\"s62\">They are breaking their own laws . </s>\n",
      "</comment>\n",
      "<comment bloggerid=\"MirandaKeen \" id=\"c4\">\n",
      "<s id=\"s63\">[MirandaKeen ] In the near future , I hope . </s>\n",
      "</comment>\n",
      "<comment bloggerid=\"MirandaKeen \" id=\"c5\">\n",
      "<s id=\"s64\">[MirandaKeen ] And the Universal Declaration of Human RightsArticle 12No one shall be subjected to arbitrary interference with their privacy , family , home or correspondence , nor to attacks upon their honour and reputation . </s>\n",
      "<s id=\"s65\">Everyone has the right to the protection of the law against such interference and attacks . </s>\n",
      "</comment>\n",
      "</comment>\n"
     ]
    }
   ],
   "source": [
    "from bs4 import BeautifulSoup\n",
    "\n",
    "f = open('test_data/1957284403.ofs.gold.xml', 'r')\n",
    "article_text = f.read();\n",
    "soup = BeautifulSoup(article_text, \"lxml\")\n",
    "\n",
    "comment = {\n",
    "    \"bloggerId\": \"author\",\n",
    "    \"sentences\": [], # all sentences in a comment,\n",
    "    \"parents\": [] # the order depends on how beautifulsoup gives me the parents\n",
    "}\n",
    "article = {\n",
    "    \"sentences\": {}, # each sentence goes here, hashed by id\n",
    "    \"comments\": {} # each comment goes here, hashed by id\n",
    "}\n",
    "commentsHTML = soup.findAll('comment')\n",
    "print commentsHTML[0]\n",
    "for c in commentsHTML:\n",
    "    comment_sentences = []\n",
    "    comment_parents = []\n",
    "    "
   ]
  },
  {
   "cell_type": "markdown",
   "metadata": {},
   "source": [
    "# Can I extract just the sentence that belongs to the replied comment?"
   ]
  },
  {
   "cell_type": "code",
   "execution_count": 8,
   "metadata": {
    "collapsed": false
   },
   "outputs": [
    {
     "data": {
      "text/plain": [
       "[<s id=\"s57\">[epinoa] So BT and Vodafone breached the Data Protection Act ? </s>]"
      ]
     },
     "execution_count": 8,
     "metadata": {},
     "output_type": "execute_result"
    }
   ],
   "source": [
    "html = commentsHTML[0]\n",
    "comms = html.findAll('comment')\n",
    "first_comm_s = html.findAll('s', recursive=False)\n",
    "first_comm_s\n"
   ]
  },
  {
   "cell_type": "markdown",
   "metadata": {},
   "source": [
    "# Can I extract all the comment tags, including the nested ones?\n",
    "\n",
    "Turns out the findAll is recursive and gets me every comment.\n",
    "From there, getting the parents is easy."
   ]
  },
  {
   "cell_type": "code",
   "execution_count": 9,
   "metadata": {
    "collapsed": false
   },
   "outputs": [
    {
     "name": "stdout",
     "output_type": "stream",
     "text": [
      "<comment bloggerid=\"MirandaKeen \" id=\"c4\">\n",
      "<s id=\"s63\">[MirandaKeen ] In the near future , I hope . </s>\n",
      "</comment>\n",
      "['c0']\n"
     ]
    }
   ],
   "source": [
    "for c in commentsHTML:\n",
    "    if c['id'] == \"c4\":\n",
    "        print c\n",
    "        print [p['id'] for p in c.findParents(\"comment\")]\n",
    "        break"
   ]
  },
  {
   "cell_type": "markdown",
   "metadata": {},
   "source": [
    "# Therefore, the function to extract the comments is:"
   ]
  },
  {
   "cell_type": "code",
   "execution_count": 10,
   "metadata": {
    "collapsed": true
   },
   "outputs": [],
   "source": [
    "def parse_comments(comments):\n",
    "    '''\n",
    "    comment = {\n",
    "        \"bloggerId\": \"author\",\n",
    "        \"sentences\": [], # all sentences in a comment,\n",
    "        \"parents\": [] # the order depends on how beautifulsoup gives me the parents\n",
    "    }\n",
    "    '''\n",
    "    \n",
    "    parsed_comments = {}\n",
    "    for c in comments:\n",
    "        comment = {}\n",
    "        comment['bloggerId'] = c['bloggerid']\n",
    "        \n",
    "        comment['sentences_ids'] = [s['id'] for s in c.findAll('s', recursive=False)]\n",
    "        comment['parents'] = [p['id'] for p in c.findParents(\"comment\")]\n",
    "        parsed_comments[c['id']] = comment\n",
    "    \n",
    "    return parsed_comments"
   ]
  },
  {
   "cell_type": "code",
   "execution_count": 19,
   "metadata": {
    "collapsed": false
   },
   "outputs": [
    {
     "name": "stdout",
     "output_type": "stream",
     "text": [
      "{'comments': {'c0': {'bloggerId': 'epinoa',\n",
      "                     'parents': [],\n",
      "                     'sentences_ids': ['s57']},\n",
      "              'c1': {'bloggerId': 'enfrance ',\n",
      "                     'parents': ['c0'],\n",
      "                     'sentences_ids': ['s58']},\n",
      "              'c10': {'bloggerId': 'dennis79',\n",
      "                      'parents': [],\n",
      "                      'sentences_ids': ['s73', 's74', 's75', 's76', 's77']},\n",
      "              'c11': {'bloggerId': 'SpecialRX',\n",
      "                      'parents': ['c10'],\n",
      "                      'sentences_ids': ['s78', 's79']},\n",
      "              'c12': {'bloggerId': ' Malkatrinho',\n",
      "                      'parents': ['c10'],\n",
      "                      'sentences_ids': ['s80', 's81']},\n",
      "              'c13': {'bloggerId': 'timetorememberagain ',\n",
      "                      'parents': [],\n",
      "                      'sentences_ids': ['s82',\n",
      "                                        's83',\n",
      "                                        's84',\n",
      "                                        's85',\n",
      "                                        's86',\n",
      "                                        's87',\n",
      "                                        's88']},\n",
      "              'c14': {'bloggerId': 'AGrumpyGit ',\n",
      "                      'parents': ['c13'],\n",
      "                      'sentences_ids': ['s89']},\n",
      "              'c15': {'bloggerId': 'timetorememberagain ',\n",
      "                      'parents': ['c13'],\n",
      "                      'sentences_ids': ['s90',\n",
      "                                        's91',\n",
      "                                        's92',\n",
      "                                        's93',\n",
      "                                        's94',\n",
      "                                        's95']},\n",
      "              'c16': {'bloggerId': 'SamSSSS',\n",
      "                      'parents': ['c13'],\n",
      "                      'sentences_ids': ['s96', 's97', 's98']},\n",
      "              'c17': {'bloggerId': 'VaughnParadis ',\n",
      "                      'parents': [],\n",
      "                      'sentences_ids': ['s99', 's100', 's101', 's102']},\n",
      "              'c18': {'bloggerId': 'Snapshackle ',\n",
      "                      'parents': ['c17'],\n",
      "                      'sentences_ids': ['s103', 's104']},\n",
      "              'c19': {'bloggerId': ' OurPlanet ',\n",
      "                      'parents': ['c17'],\n",
      "                      'sentences_ids': ['s105', 's106', 's107']},\n",
      "              'c2': {'bloggerId': 'alex442',\n",
      "                     'parents': ['c0'],\n",
      "                     'sentences_ids': ['s59', 's60']},\n",
      "              'c20': {'bloggerId': ' Malkatrinho',\n",
      "                      'parents': ['c17'],\n",
      "                      'sentences_ids': ['s108']},\n",
      "              'c21': {'bloggerId': 'jonbryce ',\n",
      "                      'parents': ['c17'],\n",
      "                      'sentences_ids': ['s109', 's110', 's111', 's112']},\n",
      "              'c22': {'bloggerId': 'IronCurtain ',\n",
      "                      'parents': [],\n",
      "                      'sentences_ids': ['s113',\n",
      "                                        's114',\n",
      "                                        's115',\n",
      "                                        's116',\n",
      "                                        's117',\n",
      "                                        's118',\n",
      "                                        's119']},\n",
      "              'c23': {'bloggerId': 'enfrance ',\n",
      "                      'parents': ['c22'],\n",
      "                      'sentences_ids': ['s120',\n",
      "                                        's121',\n",
      "                                        's122',\n",
      "                                        's123',\n",
      "                                        's124',\n",
      "                                        's125',\n",
      "                                        's126',\n",
      "                                        's127',\n",
      "                                        's128',\n",
      "                                        's129',\n",
      "                                        's130']},\n",
      "              'c24': {'bloggerId': 'zacmcd ',\n",
      "                      'parents': ['c22'],\n",
      "                      'sentences_ids': ['s131', 's132', 's133']},\n",
      "              'c25': {'bloggerId': ' Haigin88 ',\n",
      "                      'parents': ['c22'],\n",
      "                      'sentences_ids': ['s134']},\n",
      "              'c26': {'bloggerId': 'kaneandabel ',\n",
      "                      'parents': ['c22'],\n",
      "                      'sentences_ids': ['s135',\n",
      "                                        's136',\n",
      "                                        's137',\n",
      "                                        's138',\n",
      "                                        's139']},\n",
      "              'c27': {'bloggerId': 'kaneandabel ',\n",
      "                      'parents': ['c22'],\n",
      "                      'sentences_ids': ['s140']},\n",
      "              'c28': {'bloggerId': 'ViktorBurakov',\n",
      "                      'parents': [],\n",
      "                      'sentences_ids': ['s141', 's142']},\n",
      "              'c29': {'bloggerId': 'jonwilde ',\n",
      "                      'parents': ['c28'],\n",
      "                      'sentences_ids': ['s143', 's144', 's145']},\n",
      "              'c3': {'bloggerId': 'nitpiqin ',\n",
      "                     'parents': ['c0'],\n",
      "                     'sentences_ids': ['s61', 's62']},\n",
      "              'c30': {'bloggerId': ' Malkatrinho',\n",
      "                      'parents': ['c28'],\n",
      "                      'sentences_ids': ['s146', 's147']},\n",
      "              'c31': {'bloggerId': ' Malkatrinho',\n",
      "                      'parents': ['c28'],\n",
      "                      'sentences_ids': ['s148', 's149', 's150']},\n",
      "              'c32': {'bloggerId': 'ScepticOptimist ',\n",
      "                      'parents': ['c28'],\n",
      "                      'sentences_ids': ['s151', 's152', 's153', 's154']},\n",
      "              'c33': {'bloggerId': 'gwelddycybydd ',\n",
      "                      'parents': ['c28'],\n",
      "                      'sentences_ids': ['s155', 's156']},\n",
      "              'c34': {'bloggerId': 'RandomAccountant ',\n",
      "                      'parents': [],\n",
      "                      'sentences_ids': ['s157', 's158']},\n",
      "              'c35': {'bloggerId': 'allislost ',\n",
      "                      'parents': ['c34'],\n",
      "                      'sentences_ids': ['s159']},\n",
      "              'c36': {'bloggerId': 'GreenRevolution ',\n",
      "                      'parents': [],\n",
      "                      'sentences_ids': ['s160', 's161', 's162']},\n",
      "              'c37': {'bloggerId': 'cockersf1 ',\n",
      "                      'parents': [],\n",
      "                      'sentences_ids': ['s163']},\n",
      "              'c38': {'bloggerId': 'brendon1 ',\n",
      "                      'parents': ['c37'],\n",
      "                      'sentences_ids': ['s164', 's165']},\n",
      "              'c39': {'bloggerId': 'zacmcd ',\n",
      "                      'parents': ['c37'],\n",
      "                      'sentences_ids': ['s166', 's167', 's168']},\n",
      "              'c4': {'bloggerId': 'MirandaKeen ',\n",
      "                     'parents': ['c0'],\n",
      "                     'sentences_ids': ['s63']},\n",
      "              'c40': {'bloggerId': ' TheSandbag',\n",
      "                      'parents': ['c37'],\n",
      "                      'sentences_ids': ['s169', 's170']},\n",
      "              'c41': {'bloggerId': 'nowwhataretheyupto',\n",
      "                      'parents': [],\n",
      "                      'sentences_ids': ['s171', 's172', 's173', 's174']},\n",
      "              'c42': {'bloggerId': 'Miss_Direction ',\n",
      "                      'parents': [],\n",
      "                      'sentences_ids': ['s175']},\n",
      "              'c43': {'bloggerId': 'elevengoalposts ',\n",
      "                      'parents': ['c42'],\n",
      "                      'sentences_ids': ['s176', 's177']},\n",
      "              'c44': {'bloggerId': 'Exodus20',\n",
      "                      'parents': ['c42'],\n",
      "                      'sentences_ids': ['s178', 's179']},\n",
      "              'c45': {'bloggerId': 'Exodus20',\n",
      "                      'parents': ['c42'],\n",
      "                      'sentences_ids': ['s180', 's181', 's182']},\n",
      "              'c46': {'bloggerId': 'Miss_Direction ',\n",
      "                      'parents': ['c42'],\n",
      "                      'sentences_ids': ['s183', 's184', 's185', 's186']},\n",
      "              'c47': {'bloggerId': 'amonduul ',\n",
      "                      'parents': [],\n",
      "                      'sentences_ids': ['s187']},\n",
      "              'c48': {'bloggerId': ' Derek Seymour ',\n",
      "                      'parents': ['c47'],\n",
      "                      'sentences_ids': ['s188']},\n",
      "              'c49': {'bloggerId': 'BStroszek ',\n",
      "                      'parents': ['c47'],\n",
      "                      'sentences_ids': ['s189']},\n",
      "              'c5': {'bloggerId': 'MirandaKeen ',\n",
      "                     'parents': ['c0'],\n",
      "                     'sentences_ids': ['s64', 's65']},\n",
      "              'c6': {'bloggerId': '00jebus ',\n",
      "                     'parents': [],\n",
      "                     'sentences_ids': ['s66']},\n",
      "              'c7': {'bloggerId': 'Bluestone ',\n",
      "                     'parents': ['c6'],\n",
      "                     'sentences_ids': ['s67', 's68']},\n",
      "              'c8': {'bloggerId': 'jonbryce ',\n",
      "                     'parents': ['c6'],\n",
      "                     'sentences_ids': ['s69', 's70']},\n",
      "              'c9': {'bloggerId': 'DavidMillipede ',\n",
      "                     'parents': ['c6'],\n",
      "                     'sentences_ids': ['s71', 's72']}},\n",
      " 'sentences': {'s0': u'BT and Vodafone among telecoms companies passing details to GCHQ',\n",
      "               's1': u\"Some of the world 's leading telecoms firms , including BT and Vodafone , are secretly collaborating with Britain 's spy agency GCHQ , and are passing on details of their customers ' phone calls , email messages and Facebook entries , documents leaked by the whistleblower Edward Snowden show . \",\n",
      "               's10': u'It gives top secret codenames for each firm , with BT ( \" Remedy \" ) , Verizon Business ( \" Dacron \" ) , and Vodafone Cable ( \" Gerontic\" ) . ',\n",
      "               's100': u'Best way to keep your information secure ? ',\n",
      "               's101': u'Use Vodafone . ',\n",
      "               's102': u\"You wo n't be in contact with anybody . \",\n",
      "               's103': u'[Snapshackle ] Agreed , 4G? ? ',\n",
      "               's104': u'3G would be nice , or even a fucking signal . ',\n",
      "               's105': u'[ OurPlanet ] That really made me laugh in a serious situation . ',\n",
      "               's106': u'Thanks VaughnParadisThe best antidote to this crap is to make them irrelevant and stupid looking . ',\n",
      "               's107': u'Fear only feeds these imbeciles egos . ',\n",
      "               's108': u\"[ Malkatrinho] that 's a lovely shade of green . \",\n",
      "               's109': u'[jonbryce ] This is the former Cable & Wireless division of Vodafone . ',\n",
      "               's11': u'The other firms include Global Crossing ( \" Pinnage \" ) , Level 3 ( \" Little \" ) , Viatel ( \"Vitreous \" ) and Interoute ( \" Streetcar \" ) . ',\n",
      "               's110': u'Lots of ISPs use them for their transatlantic traffic . ',\n",
      "               's111': u\"Those that do n't use one of the other ones listed . \",\n",
      "               's112': u'Level 3 is probably the biggest . ',\n",
      "               's113': u'[IronCurtain ] The Governments and the Corporations banding together . ',\n",
      "               's114': u'cui bonno ? ',\n",
      "               's115': u'you ? ',\n",
      "               's116': u'me ? ',\n",
      "               's117': u'Freedom ? ',\n",
      "               's118': u'Liberty ? ',\n",
      "               's119': u'not likely . ',\n",
      "               's12': u'The companies refused to comment on any specifics relating to Tempora , but several noted they were obliged to comply with UK and EU law . ',\n",
      "               's120': u'[enfrance ] If apathy is the order of the day here , perhaps pionting out that Vodaphone have cost each invidual in the UK so much as a result of its tax deal would that make people wake up ? ',\n",
      "               's121': u'Nah , I despair . ',\n",
      "               's122': u'And the likelyhood of anyone boycotting either BT or Vodaphone is nill except perhaps a few who will make no difference at all . ',\n",
      "               's123': u'How about a petition of some sort ? ',\n",
      "               's124': u\"Its late and I 'm too tired and hot to think of one that could do the subject justice . \",\n",
      "               's125': u'Anyone ? ',\n",
      "               's126': u'As for people thinking this does not affect them . ',\n",
      "               's127': u\"Even if you think you are doing nothing wrong what 's to stop you being framed for something by this information ? \",\n",
      "               's128': u'or mistaken for someone else or regarded as doing something which may be the first step to terrorism , like searching for pressure cookers on the net , buying a rucksack on the net and having a son with a lively interest in online news ? ',\n",
      "               's129': u'Just ask the New York family elsewhere in the Guardian . ',\n",
      "               's13': u'The revelations are likely to dismay GCHQ and Downing Street , who are fearful that BT and the other firms will suffer a backlash from customers furious that their private data and intimate emails have been secretly passed to a government spy agency . ',\n",
      "               's130': u'Perhaps we should all stop reading the news online just in case ! ',\n",
      "               's131': u'[zacmcd ] There is a petition to Stop Tempora , it takes a minute to sign ( but a confirmation email needs to be clicked ) . ',\n",
      "               's132': u'Also , minimise the use of these companies ; give them less money to undermine us with . ',\n",
      "               's133': u'You can make free 2048 bit encrypted VoIP calls using Yuilop save money and lower their turnover ... ',\n",
      "               's134': u'[ Haigin88 ] &quot ;Fascism should rightly be called Corporatism , as it is the merger of corporate and government power .&quot ; . Benito Mussolini ',\n",
      "               's135': u'[kaneandabel ] TThe question is when will the poeple fill the street like it happened before Iraq war , a million march in London would be a good idea now . ',\n",
      "               's136': u'Of course then we may have a false flag operation and then clamp on the screws ... with the orange alert worldwide , made just a day back by Gen Alexanders team . ',\n",
      "               's137': u'But otherwise , I see no chance of change . ',\n",
      "               's138': u'In Germany the protests are happening in ernst . ',\n",
      "               's139': u'Thousands fill German streets to protest Berlin\\u2019s NSA spying involvement ',\n",
      "               's14': u'In June a source with knowledge of intelligence said the companies had no choice but to co-operate in this operation . ',\n",
      "               's140': u'[kaneandabel ] ; ) I deserved that one ',\n",
      "               's141': u'[ViktorBurakov] To begin with I thought it all meant that they were paranoid , perpetually terrified of some bogeyman , imaginary or real . ',\n",
      "               's142': u\"Now though , I 'm convinced it 's something a lot more sinister \",\n",
      "               's143': u'[jonwilde ] Which , I guess , means that the terrorists have won . ',\n",
      "               's144': u\"I was n't nervous at all before I learnt how closely we were being monitored . \",\n",
      "               's145': u'What are those odds again against being a victim of a terrorist act ? ',\n",
      "               's146': u\"[ Malkatrinho] I think it 's more to do with incompetence and leakiness than it is part of some grand dastardly plan to provoke people . \",\n",
      "               's147': u\"They 'd much rather we stayed ignorant , compliant and biddable . \",\n",
      "               's148': u'[ Malkatrinho] They are terrified . ',\n",
      "               's149': u'Of what happens when enough people begin to protest about corruption , inequality , collapsing civil society , etc . ',\n",
      "               's15': u'They are forbidden from revealing the existence of warrants compelling them to allow GCHQ access to the cables . ',\n",
      "               's150': u\"They 're terrified that the same kind of mass protests that swept Brazil , Turkey , Bulgaria or the Middle East will eventually be provoked in the West . \",\n",
      "               's151': u'[ScepticOptimist ] And it is exactly the only way we can regain our freedom - a British spring ; mass protest & civil disobedience . ',\n",
      "               's152': u'Then we will see these fuckers true colours when they send the troops in an people are dragged bleeding off the streets . ',\n",
      "               's153': u'But they can not win if we all unite against them . ',\n",
      "               's154': u'History has shown time and time again that true power lies in the hands of the people . ',\n",
      "               's155': u'[gwelddycybydd ] I do believe that the government is trying to provoke confrontation.Their security forces ; state and private , are well trained and very well equipped.The ',\n",
      "               's156': u\"drip , drip , drip of corruption , cronyism , incompetence and naked self interest and frequently exposed by their 'friends ' in the mostly right leaning media seem to be designed to build pressure in the populace .Maybe , they want to put us in our place , once and for all . \",\n",
      "               's157': u'[RandomAccountant ] Welcome to 21st century Britain.Big ',\n",
      "               's158': u'Brother has arrived .29 years late . ',\n",
      "               's159': u'[allislost ] Been like this for an age , only now many more understand the plight of the many who have been hounded into submission and/or mental institutions . ',\n",
      "               's16': u\"Together , these seven companies operate a huge share of the high-capacity undersea fibre-optic cables that make up the backbone of the internet 's architecture . \",\n",
      "               's160': u'[GreenRevolution ] I am going to boycott both ! ',\n",
      "               's161': u'This disgraceful spying business has no end ! ',\n",
      "               's162': u'Shame on those who participate in this abhorent snooping . ',\n",
      "               's163': u'[cockersf1 ] Do you think this qould be a way of getting out of contracts with these companies ? ',\n",
      "               's164': u\"[brendon1 ] The problem is that most of the world 's Internet traffic goes via Level3 . \",\n",
      "               's165': u\"There 's no easy way of getting around that . \",\n",
      "               's166': u'[zacmcd ] Hard for the layman to know . ',\n",
      "               's167': u'SSL being secure would explain why they need backdoor access via Prism . ',\n",
      "               's168': u'There is also mention that encrypted mobile messaging apps pose a threat to their capabilities ... ',\n",
      "               's169': u\"[ TheSandbag] From the descriptions of tempora I 'm fairly sure they have broken SSL otherwise its pointless . \",\n",
      "               's17': u\"GCHQ 's mass tapping operation has been built up over the past five years by attaching intercept probes to the transatlantic cables where they land on British shores . \",\n",
      "               's170': u\"Large numbers of web apps and traffic is ssl encrypted now so why bother creating a massive fiber intercept program if you could n't see 60 % + of all the traffic and almost all of the communications data ? \",\n",
      "               's171': u'[nowwhataretheyupto] so this is why the government go easy on these toss pots not paying corporation tax . ',\n",
      "               's172': u'And they dare to call bank robbers criminals . ',\n",
      "               's173': u\"Jesus , there 's no f*cking morals with any of them . \",\n",
      "               's174': u\"What 's happened to these people , or are they so smacked off their tits to care ? . \",\n",
      "               's175': u'[Miss_Direction ] There are four points i would like to raise : 1 ) Even if the security services can be trusted with all the vast data they gather what happens if it falls into the wrong hands 2 ) GCHQ have been known in the past to target animals rights protestors , environmental organisations and Union groups therefore it is clear that they are already used as a political weapon against dissent 3 ) Democracy depends on transparency and accountability and this important element is being undermined at the highest levels for the benefit of corporate and political interests 4 ) Lastly i would like to know if the NSA and GCHQ actively targeted the Occupy movement and who authorised this action and what was their remit ',\n",
      "               's176': u\"[elevengoalposts ] ''GCHQ have been known in the past to target animals rights protestors , environmental organisations and Union groups .. . \",\n",
      "               's177': u\"'' You have first-hand , written evidence about that , or just assertions ? \",\n",
      "               's178': u'[Exodus20] Rights and laws are at best ideals , no more , no less . ',\n",
      "               's179': u'To those corrupted by greed and power , these are nothing more than sweets to quieten gullible and innocent children . ',\n",
      "               's18': u\"GCHQ 's station in Bude , north Cornwall , plays a role . \",\n",
      "               's180': u'[Exodus20] Even if the security services can be trusted with all the vast data they gather what happens if it falls into the wrong hands I share that sentiment and concern . ',\n",
      "               's181': u'Security services are necessary but i am afraid most , even all of them , sooner rather than later will become rogue , cancerous , arrogant corrupt and become the tools of suppression for politicians and big money . ',\n",
      "               's182': u'Most people do not appreciate the preciousness and precariousness of accountable democracy and responsibility freedom . ',\n",
      "               's183': u'[Miss_Direction ] The right to freedom of expression is recognized as a human right under Article 19 of the Universal Declaration of Human Rights and recognized in international human rights law in the International Covenant on Civil and Political Rights ( ICCPR ) . ',\n",
      "               's184': u'Article 19 of the ICCPR states that &quot ;everyone shall have the right to hold opinions without interference&quot ; and &quot ;everyone shall have the right to freedom of expression ; this right shall include freedom to seek , receive and impart information and ideas of all kinds , regardless of frontiers , either orally , in writing or in print , in the form of art , or through any other media of his choice&quot ; http ://en.wikipedia ',\n",
      "               's185': u'.org/wiki/ ',\n",
      "               's186': u'Freedom_of_speech Our basic right to freedom of speech should be upheld through international law as long as it does not harm or interfere with the liberty of others ... it therefore appears that we have lost sight of what is an important and we have a problem that requires fixing . ',\n",
      "               's187': u'[amonduul ] Ignore shockman - rightwing troll . ',\n",
      "               's188': u\"[ Derek Seymour ] This is not a right or left issue , so I 'm calling shockman a fascist troll \",\n",
      "               's189': u\"[BStroszek ] If you 're tired , why do n't you fuck off to bed , and spare us your drivel . \",\n",
      "               's19': u'The cables carry data to western Europe from telephone exchanges and internet servers in north America . ',\n",
      "               's2': u'BT , Vodafone Cable , and the American firm Verizon Business \\u2013 together with four other smaller providers \\u2013 have given GCHQ secret unlimited access to their network of undersea cables . ',\n",
      "               's20': u'This allows GCHQ and NSA analysts to search vast amounts of data on the activity of millions of internet users . ',\n",
      "               's21': u'Metadata \\u2013 the sites users visit , whom they email , and similar information \\u2013 is stored for up to 30 days , while the content of communications is typically stored for three days . ',\n",
      "               's22': u'GCHQ has the ability to tap cables carrying both internet data and phone calls . ',\n",
      "               's23': u'By last year GCHQ was handling 600m \"telephone events \" each day , had tapped more than 200 fibre-optic cables and was able to process data from at least 46 of them at a time . ',\n",
      "               's24': u'Each of the cables carries data at a rate of 10 gigabits per second , so the tapped cables had the capacity , in theory , to deliver more than 21 petabytes a day \\u2013 equivalent to sending all the information in all the books in the British Library 192 times every 24 hours . ',\n",
      "               's25': u'This operation is carried out under clandestine agreements with the seven companies , described in one document as \"intercept partners \" . ',\n",
      "               's26': u'The companies are paid for logistical and technical assistance . ',\n",
      "               's27': u'The identity of the companies allowing GCHQ to tap their cables was regarded as extremely sensitive within the agency . ',\n",
      "               's28': u'Though the Tempora programme itself was classified as top secret , the identities of the cable companies was even more secret , referred to as \"exceptionally controlled information \" , with the company names replaced with the codewords , such as \" GERONTIC\" , \" REMEDY\" and \" PINNAGE\" . ',\n",
      "               's29': u'However , some documents made it clear which codenames referred to which companies . ',\n",
      "               's3': u\"The cables carry much of the world 's phone calls and internet traffic . \",\n",
      "               's30': u'GCHQ also assigned the firms \" sensitive relationship teams \" . ',\n",
      "               's31': u'One document warns that if the names emerged it could cause \"high-level political fallout \" . ',\n",
      "               's32': u'Germans have been enraged by the revelations of spying by the National Security Agency and GCHQ after it emerged that both agencies were hoovering up German data as well . ',\n",
      "               's33': u'On Friday the S\\xfcddeutsche said it was now clear that private telecoms firms were far more deeply complicit in US-UK spying activities than had been previously thought . ',\n",
      "               's34': u'The source familiar with intelligence maintained in June that GCHQ was \" not looking at every piece of straw \" but was sifting a \"vast haystack of data \" for what he called \"needles \" . ',\n",
      "               's35': u'He added : \" If you had the impression we are reading millions of emails , we are not . ',\n",
      "               's36': u'There is no intention in this whole programme to use it for looking at UK domestic traffic \\u2013 British people talking to each other . ',\n",
      "               's37': u'\" The source said analysts used four criteria for determining what was examined : security , terror , organised crime and Britain \\'s economic wellbeing .\" ',\n",
      "               's38': u\"The vast majority of the data is discarded without being looked at \\u2026 we simply do n't have the resources . \",\n",
      "               's39': u'\" Nonetheless , the agency repeatedly referred to plans to expand this collection ability still further in the future . ',\n",
      "               's4': u\"In June the Guardian revealed details of GCHQ 's ambitious data-hoovering programmes , Mastering the Internet and Global Telecoms Exploitation , aimed at scooping up as much online and telephone traffic as possible . \",\n",
      "               's40': u'Once it is collected , analysts are able to search the information for emails , online chats and browsing histories using an interface called XKeyscore , uncovered in the Guardian on Wednesday . ',\n",
      "               's41': u'By May 2012 , 300 analysts from GCHQ and 250 NSA analysts had direct access to search and sift through the data collected under the Tempora program . ',\n",
      "               's42': u'Documents seen by the Guardian suggest some telecoms companies allowed GCHQ to access cables which they did not themselves own or operate , but only operated a landing station for . ',\n",
      "               's43': u'Such practices could raise alarm among other cable providers who do not co-operate with GCHQ programmes that their facilities are being used by the intelligence agency . ',\n",
      "               's44': u'Telecoms providers can be compelled to co-operate with requests from the government , relayed through ministers , under the 1984 Telecommunications Act , but privacy advocates have raised concerns that the firms are not doing enough to challenge orders enabling large-scale surveillance , or are co-operating to a degree beyond that required by law . ',\n",
      "               's45': u'\" We urgently need clarity on how close the relationship is between companies assisting with intelligence gathering and government , \" said Eric King , head of research for Privacy International . ',\n",
      "               's46': u'\" Were the companies strong-armed , or are they voluntary intercept partners ? ',\n",
      "               's47': u'\" Vodafone said it complied with the laws of all the countries in which its cables operate . ',\n",
      "               's48': u'\" Media reports on these matters have demonstrated a misunderstanding of the basic facts of European , German and UK legislation and of the legal obligations set out within every telecommunications operator \\'s licence \\u2026 Vodafone complies with the law in all of our countries of operation , \" said a spokesman . ',\n",
      "               's49': u'\" Vodafone does not disclose any customer data in any jurisdiction unless legally required to do so . ',\n",
      "               's5': u'It emerged GCHQ was able to tap into fibre-optic cables and store huge volumes of data for up to 30 days . ',\n",
      "               's50': u'Questions related to national security are a matter for governments not telecommunications operators . ',\n",
      "               's51': u'\" A spokeswoman for Interoute said : \" As with all communication providers in Europe we are required to comply with European and local laws including those on data protection and retention . ',\n",
      "               's52': u'From time to time we are presented with requests from authorities . ',\n",
      "               's53': u'When we receive such requests , they are processed by our legal and security teams and if valid , acted upon . ',\n",
      "               's54': u'\" A spokeswoman for Verizon said : \" Verizon continually takes steps to safeguard our customers \\' privacy . ',\n",
      "               's55': u'Verizon also complies with the law in every country in which we operate . ',\n",
      "               's56': u'\" BT declined to comment . ',\n",
      "               's57': u'[epinoa] So BT and Vodafone breached the Data Protection Act ? ',\n",
      "               's58': u'[enfrance ] Is this Atlantic Bridge in operation ? ',\n",
      "               's59': u'[alex442] Human Rights ? ',\n",
      "               's6': u'That operation , codenamed Tempora , has been running for 20 months . ',\n",
      "               's60': u'Aww , how quaint ... ',\n",
      "               's61': u\"[nitpiqin ] That 's what we need to judge them and prosecute them with their own laws . \",\n",
      "               's62': u'They are breaking their own laws . ',\n",
      "               's63': u'[MirandaKeen ] In the near future , I hope . ',\n",
      "               's64': u'[MirandaKeen ] And the Universal Declaration of Human RightsArticle 12No one shall be subjected to arbitrary interference with their privacy , family , home or correspondence , nor to attacks upon their honour and reputation . ',\n",
      "               's65': u'Everyone has the right to the protection of the law against such interference and attacks . ',\n",
      "               's66': u\"[00jebus ] So THATs how Vodafone get away with not paying any tax ( allegedly ) hmmm .... is there a telecom company that does n't pass on infomation ? \",\n",
      "               's67': u\"[Bluestone ] You scratch our backs , we 'll scratch yours - and bugger the proles ! \",\n",
      "               's68': u'Haw haw ! ',\n",
      "               's69': u'[jonbryce ] Vodafone Cable was Cable & Wireless until they took it over on 27 July 2012 . ',\n",
      "               's7': u\"On Friday Germany 's S\\xfcddeutsche newspaper published the most highly sensitive aspect of this operation \\u2013 the names of the commercial companies working secretly with GCHQ , and giving the agency access to their customers ' private communications . \",\n",
      "               's70': u'The tax settlement was in 2010 , so there is no link . ',\n",
      "               's71': u\"[DavidMillipede ] Probably not given that they have to comp'ly with secret government demands . \",\n",
      "               's72': u\"We need a revolution , and we need it now , to restore democracy to the people and not elitist wankers like this shabby government who could n't even win an election , yet take all the liberties they have been with public services . \",\n",
      "               's73': u'[dennis79] All of this is certainly not done to combat terrorism . ',\n",
      "               's74': u'Spying upon politics , economics , NGOs etc . ',\n",
      "               's75': u\"I 'm also pretty confident that a number of individuals are subjugated to more thorough investigation purely for state needs . \",\n",
      "               's76': u'States have always set up people , used people as fall guys , coerced and manipulated their subjects . ',\n",
      "               's77': u\"All this is far easier when in the possession of a very complete knowledge of someone 's life . \",\n",
      "               's78': u\"[SpecialRX] I suspect you 're right . \",\n",
      "               's79': u'Have a recommend on me . ',\n",
      "               's8': u'The paper said it had seen a copy of an internal GCHQ powerpoint presentation from 2009 discussing Tempora . ',\n",
      "               's80': u\"[ Malkatrinho] It has nothing to do with &quot;Terrorists&quot ; , you 're bang on . \",\n",
      "               's81': u\"It 's about keeping an eye on the general populace , which might start getting a little &quot ;uppity&quot ; when the consequences of climate change and economic collapse really start to kick in in around 10-15 years time ( if we 're being optimistic ) . \",\n",
      "               's82': u\"[timetorememberagain ] A spokeswoman for Verizon said : &quot ;Verizon continually takes steps to safeguard our customers ' privacy . \",\n",
      "               's83': u'Verizon also complies with the law in every country in which we operate .&quot ; This is a contradiction . ',\n",
      "               's84': u\"It sounds like they 're doing everything just right but in fact the two statements are mutually exclusive because They are forbidden from revealing the existence of warrants compelling them to allow GCHQ access to the cables . \",\n",
      "               's85': u\"So the government demands access to my ( and everyone else 's ) phone calls and the provider obeys without telling me but instead assures me they 're continually taking steps to safeguard my privacy . \",\n",
      "               's86': u'Sheer doublespeak and deception of the highest order . ',\n",
      "               's87': u'Recall Parliament now ! ',\n",
      "               's88': u'Demonstrate now ! ',\n",
      "               's89': u\"[AGrumpyGit ] Democracy does indeed work that way , but we 've living in a quasi-democracy for som time now , in which we all go through a meaningless but apparently necessary election system but we always end up with &quot ;leaders&quot ; that perpuate their hidden agenda . \",\n",
      "               's9': u'The document identified for the first time which telecoms companies are working with GCHQ \\'s \" special source \" team . ',\n",
      "               's90': u'[timetorememberagain ] It should have been debated in parliament.If the majority were in favour , the access would be granted.That is how democracy works . ',\n",
      "               's91': u'Quite so . ',\n",
      "               's92': u'Those among us who might previously have argued that at least we still live in a democracy , might now begin to question that assumption . ',\n",
      "               's93': u'With luck we might even stage mass demonstrations demanding our rights . ',\n",
      "               's94': u'Organise ! ',\n",
      "               's95': u'Resist ! ',\n",
      "               's96': u\"[SamSSSS] I do n't see why the existence of warrants for access had to be hidden from the public. \",\n",
      "               's97': u'It should have been debated in parliament . ',\n",
      "               's98': u'If the majority were in favour , the access would be granted.That is how democracy works . ',\n",
      "               's99': u\"[VaughnParadis ] I 'd be concerned about Vodafone passing on details of my communications , if Vodafone could provide me with a signal in the first place . \"}}\n",
      "50  comments parsed.\n",
      "190  sentences parsed.\n"
     ]
    }
   ],
   "source": [
    "import json\n",
    "import pprint\n",
    "def parse_article(html):\n",
    "    soup = BeautifulSoup(html, \"lxml\")\n",
    "    \n",
    "    sentences = soup.findAll('s')\n",
    "    parsed_sentences = {}\n",
    "    for s in sentences:\n",
    "        parsed_sentences[s['id']] = s.get_text() \n",
    "    \n",
    "    parsed_comments = parse_comments(soup.findAll('comment'))\n",
    "    \n",
    "    article = {\n",
    "        'sentences': parsed_sentences,\n",
    "        'comments': parsed_comments\n",
    "    }\n",
    "\n",
    "    return article\n",
    "\n",
    "article = parse_article(article_text)\n",
    "pprint.pprint(article)\n",
    "json_article = json.dumps(article, indent=4)\n",
    "print len(article['comments'].values()), \" comments parsed.\"\n",
    "print len(article['sentences'].values()), \" sentences parsed.\""
   ]
  },
  {
   "cell_type": "markdown",
   "metadata": {},
   "source": [
    "# Clustering just the sentences"
   ]
  },
  {
   "cell_type": "markdown",
   "metadata": {},
   "source": [
    "## Vectorizing the sentences (TFIDF)"
   ]
  },
  {
   "cell_type": "code",
   "execution_count": 116,
   "metadata": {
    "collapsed": false,
    "scrolled": true
   },
   "outputs": [
    {
     "name": "stdout",
     "output_type": "stream",
     "text": [
      "876 features found\n",
      "Top 20 features:\n",
      "[u'00jebus', u'link', u'coerc', u'life', u'lie', u'licenc', u'librari', u'collabor', u'level3', u'legisl', u'colour', u'left', u'learnt', u'lean', u'leaki', u'leak', u'leader', u'likelyhood', u'list', u'layman']\n"
     ]
    }
   ],
   "source": [
    "from sklearn.feature_extraction.text import TfidfVectorizer\n",
    "import nltk.stem\n",
    "\n",
    "english_stemmer = nltk.stem.SnowballStemmer('english')\n",
    "\n",
    "class StemmedTfidfVectorizer(TfidfVectorizer):\n",
    "    def build_analyzer(self):\n",
    "        analyzer=super(StemmedTfidfVectorizer,self).build_analyzer()\n",
    "        return lambda doc:(english_stemmer.stem(w) for w in analyzer(doc))\n",
    "\n",
    "vectorizer = StemmedTfidfVectorizer(min_df=1, stop_words='english',\n",
    "                                    )\n",
    "\n",
    "sentences_vectors = vectorizer.fit_transform(article['sentences'].values())\n",
    "sorted_feature_indices = np.argsort(vectorizer.idf_)[::-1]\n",
    "features = vectorizer.get_feature_names()\n",
    "top_n_features = 20\n",
    "top_features = [features[i] for i in sorted_feature_indices[:top_n_features]]\n",
    "\n",
    "print \"%d features found\" % (len(features))\n",
    "print \"Top %d features:\" % (top_n_features)\n",
    "print top_features"
   ]
  },
  {
   "cell_type": "markdown",
   "metadata": {},
   "source": [
    "## Dimensionality reduction and Normalization"
   ]
  },
  {
   "cell_type": "code",
   "execution_count": 117,
   "metadata": {
    "collapsed": false,
    "scrolled": true
   },
   "outputs": [
    {
     "ename": "UnicodeDecodeError",
     "evalue": "'utf8' codec can't decode byte 0xaf in position 1193: invalid start byte",
     "output_type": "error",
     "traceback": [
      "\u001b[0;31m---------------------------------------------------------------------------\u001b[0m",
      "\u001b[0;31mUnicodeDecodeError\u001b[0m                        Traceback (most recent call last)",
      "\u001b[0;32m<ipython-input-117-24191cc07180>\u001b[0m in \u001b[0;36m<module>\u001b[0;34m()\u001b[0m\n\u001b[1;32m      3\u001b[0m \u001b[0;34m\u001b[0m\u001b[0m\n\u001b[1;32m      4\u001b[0m \u001b[0mX\u001b[0m \u001b[0;34m=\u001b[0m \u001b[0msentences_vectors\u001b[0m\u001b[0;34m.\u001b[0m\u001b[0mtodense\u001b[0m\u001b[0;34m(\u001b[0m\u001b[0;34m)\u001b[0m\u001b[0;34m\u001b[0m\u001b[0m\n\u001b[0;32m----> 5\u001b[0;31m \u001b[0mdct\u001b[0m \u001b[0;34m=\u001b[0m \u001b[0mgensim\u001b[0m\u001b[0;34m.\u001b[0m\u001b[0mcorpora\u001b[0m\u001b[0;34m.\u001b[0m\u001b[0mDictionary\u001b[0m\u001b[0;34m(\u001b[0m\u001b[0mX\u001b[0m\u001b[0;34m)\u001b[0m\u001b[0;34m\u001b[0m\u001b[0m\n\u001b[0m\u001b[1;32m      6\u001b[0m \u001b[0mlsi_docs\u001b[0m \u001b[0;34m=\u001b[0m \u001b[0;34m{\u001b[0m\u001b[0;34m}\u001b[0m\u001b[0;34m\u001b[0m\u001b[0m\n\u001b[1;32m      7\u001b[0m \u001b[0mnum_topics\u001b[0m \u001b[0;34m=\u001b[0m \u001b[0;36m500\u001b[0m\u001b[0;34m\u001b[0m\u001b[0m\n",
      "\u001b[0;32m/Users/betoesquivel/Envs/ML/lib/python2.7/site-packages/gensim/corpora/dictionary.pyc\u001b[0m in \u001b[0;36m__init__\u001b[0;34m(self, documents, prune_at)\u001b[0m\n\u001b[1;32m     56\u001b[0m \u001b[0;34m\u001b[0m\u001b[0m\n\u001b[1;32m     57\u001b[0m         \u001b[0;32mif\u001b[0m \u001b[0mdocuments\u001b[0m \u001b[0;32mis\u001b[0m \u001b[0;32mnot\u001b[0m \u001b[0mNone\u001b[0m\u001b[0;34m:\u001b[0m\u001b[0;34m\u001b[0m\u001b[0m\n\u001b[0;32m---> 58\u001b[0;31m             \u001b[0mself\u001b[0m\u001b[0;34m.\u001b[0m\u001b[0madd_documents\u001b[0m\u001b[0;34m(\u001b[0m\u001b[0mdocuments\u001b[0m\u001b[0;34m,\u001b[0m \u001b[0mprune_at\u001b[0m\u001b[0;34m=\u001b[0m\u001b[0mprune_at\u001b[0m\u001b[0;34m)\u001b[0m\u001b[0;34m\u001b[0m\u001b[0m\n\u001b[0m\u001b[1;32m     59\u001b[0m \u001b[0;34m\u001b[0m\u001b[0m\n\u001b[1;32m     60\u001b[0m     \u001b[0;32mdef\u001b[0m \u001b[0m__getitem__\u001b[0m\u001b[0;34m(\u001b[0m\u001b[0mself\u001b[0m\u001b[0;34m,\u001b[0m \u001b[0mtokenid\u001b[0m\u001b[0;34m)\u001b[0m\u001b[0;34m:\u001b[0m\u001b[0;34m\u001b[0m\u001b[0m\n",
      "\u001b[0;32m/Users/betoesquivel/Envs/ML/lib/python2.7/site-packages/gensim/corpora/dictionary.pyc\u001b[0m in \u001b[0;36madd_documents\u001b[0;34m(self, documents, prune_at)\u001b[0m\n\u001b[1;32m    117\u001b[0m \u001b[0;34m\u001b[0m\u001b[0m\n\u001b[1;32m    118\u001b[0m             \u001b[0;31m# update Dictionary with the document\u001b[0m\u001b[0;34m\u001b[0m\u001b[0;34m\u001b[0m\u001b[0m\n\u001b[0;32m--> 119\u001b[0;31m             \u001b[0mself\u001b[0m\u001b[0;34m.\u001b[0m\u001b[0mdoc2bow\u001b[0m\u001b[0;34m(\u001b[0m\u001b[0mdocument\u001b[0m\u001b[0;34m,\u001b[0m \u001b[0mallow_update\u001b[0m\u001b[0;34m=\u001b[0m\u001b[0mTrue\u001b[0m\u001b[0;34m)\u001b[0m  \u001b[0;31m# ignore the result, here we only care about updating token ids\u001b[0m\u001b[0;34m\u001b[0m\u001b[0m\n\u001b[0m\u001b[1;32m    120\u001b[0m \u001b[0;34m\u001b[0m\u001b[0m\n\u001b[1;32m    121\u001b[0m         logger.info(\n",
      "\u001b[0;32m/Users/betoesquivel/Envs/ML/lib/python2.7/site-packages/gensim/corpora/dictionary.pyc\u001b[0m in \u001b[0;36mdoc2bow\u001b[0;34m(self, document, allow_update, return_missing)\u001b[0m\n\u001b[1;32m    144\u001b[0m         \u001b[0mcounter\u001b[0m \u001b[0;34m=\u001b[0m \u001b[0mdefaultdict\u001b[0m\u001b[0;34m(\u001b[0m\u001b[0mint\u001b[0m\u001b[0;34m)\u001b[0m\u001b[0;34m\u001b[0m\u001b[0m\n\u001b[1;32m    145\u001b[0m         \u001b[0;32mfor\u001b[0m \u001b[0mw\u001b[0m \u001b[0;32min\u001b[0m \u001b[0mdocument\u001b[0m\u001b[0;34m:\u001b[0m\u001b[0;34m\u001b[0m\u001b[0m\n\u001b[0;32m--> 146\u001b[0;31m             \u001b[0mcounter\u001b[0m\u001b[0;34m[\u001b[0m\u001b[0mw\u001b[0m \u001b[0;32mif\u001b[0m \u001b[0misinstance\u001b[0m\u001b[0;34m(\u001b[0m\u001b[0mw\u001b[0m\u001b[0;34m,\u001b[0m \u001b[0municode\u001b[0m\u001b[0;34m)\u001b[0m \u001b[0;32melse\u001b[0m \u001b[0municode\u001b[0m\u001b[0;34m(\u001b[0m\u001b[0mw\u001b[0m\u001b[0;34m,\u001b[0m \u001b[0;34m'utf-8'\u001b[0m\u001b[0;34m)\u001b[0m\u001b[0;34m]\u001b[0m \u001b[0;34m+=\u001b[0m \u001b[0;36m1\u001b[0m\u001b[0;34m\u001b[0m\u001b[0m\n\u001b[0m\u001b[1;32m    147\u001b[0m \u001b[0;34m\u001b[0m\u001b[0m\n\u001b[1;32m    148\u001b[0m         \u001b[0mtoken2id\u001b[0m \u001b[0;34m=\u001b[0m \u001b[0mself\u001b[0m\u001b[0;34m.\u001b[0m\u001b[0mtoken2id\u001b[0m\u001b[0;34m\u001b[0m\u001b[0m\n",
      "\u001b[0;31mUnicodeDecodeError\u001b[0m: 'utf8' codec can't decode byte 0xaf in position 1193: invalid start byte"
     ]
    }
   ],
   "source": [
    "import gensim\n",
    "#Dimensionality reduction using LSI. Go from 6D to 2D.\n",
    "\n",
    "X = sentences_vectors.todense()\n",
    "dct = gensim.corpora.Dictionary(X)\n",
    "lsi_docs = {}\n",
    "num_topics = 500\n",
    "lsi_model = gensim.models.LsiModel(dct, num_topics=500)\n",
    "print lsi_model.shape\n",
    "print lsi_model[:50]"
   ]
  },
  {
   "cell_type": "markdown",
   "metadata": {},
   "source": [
    "## Clustering with MeanShift\n",
    "\n",
    "WHY ARE ALL VECTORS VALUED AT 0!???"
   ]
  },
  {
   "cell_type": "code",
   "execution_count": 118,
   "metadata": {
    "collapsed": false
   },
   "outputs": [
    {
     "name": "stdout",
     "output_type": "stream",
     "text": [
      "Number of estimated clusters : 1\n"
     ]
    }
   ],
   "source": [
    "import numpy as np\n",
    "from sklearn.cluster import MeanShift, estimate_bandwidth\n",
    "\n",
    "bandwidth = estimate_bandwidth(X, quantile=0.3)\n",
    "\n",
    "ms = MeanShift(bandwidth=bandwidth, bin_seeding=True)\n",
    "ms.fit(X)\n",
    "labels = ms.labels_\n",
    "cluster_centers = ms.cluster_centers_\n",
    "\n",
    "labels_unique = np.unique(labels)\n",
    "n_clusters_ = len(labels_unique)\n",
    "\n",
    "print \"Number of estimated clusters : %d\" % n_clusters_\n",
    "\n",
    "# Plot result\n",
    "import matplotlib.pyplot as plt\n",
    "from itertools import cycle\n",
    "\n",
    "plt.figure(1)\n",
    "plt.clf()\n",
    "\n",
    "colors = cycle('bgrcmykbgrcmykbgrcmykbgrcmyk')\n",
    "for k, col in zip(range(n_clusters_), colors):\n",
    "    my_members = labels == k\n",
    "    cluster_center = cluster_centers[k]\n",
    "    plt.plot(X[my_members, 0], X[my_members, 1], col + '.')\n",
    "    plt.plot(cluster_center[0], cluster_center[1], 'o',\n",
    "            markerfacecolor=col, markeredgecolor='k',\n",
    "            markersize=14)\n",
    "\n",
    "plt.title('Estimated number of clusters: %d' % n_clusters_)\n",
    "plt.show()\n"
   ]
  },
  {
   "cell_type": "markdown",
   "metadata": {},
   "source": [
    "## Using the same approach as a movie clusterer\n",
    "http://brandonrose.org/clustering"
   ]
  },
  {
   "cell_type": "markdown",
   "metadata": {},
   "source": [
    "### Imports"
   ]
  },
  {
   "cell_type": "code",
   "execution_count": 12,
   "metadata": {
    "collapsed": false
   },
   "outputs": [],
   "source": [
    "import numpy as np\n",
    "import pandas as pd\n",
    "import nltk\n",
    "import re\n",
    "import os\n",
    "import codecs\n",
    "from sklearn import feature_extraction\n",
    "import mpld3"
   ]
  },
  {
   "cell_type": "markdown",
   "metadata": {},
   "source": [
    "### Stopwords, stemming, and tokenizing"
   ]
  },
  {
   "cell_type": "code",
   "execution_count": 13,
   "metadata": {
    "collapsed": true
   },
   "outputs": [],
   "source": [
    "stopwords = nltk.corpus.stopwords.words('english')\n",
    "from nltk.stem.snowball import SnowballStemmer\n",
    "stemmer = SnowballStemmer(\"english\")"
   ]
  },
  {
   "cell_type": "code",
   "execution_count": 14,
   "metadata": {
    "collapsed": true
   },
   "outputs": [],
   "source": [
    "def tokenize_and_stem(sentences):\n",
    "    tokens = [word for sent in sentences \n",
    "              for word in nltk.word_tokenize(sent)]\n",
    "    filtered_tokens = []\n",
    "    for token in tokens:\n",
    "        if re.search('[a-zA-Z]', token):\n",
    "            filtered_tokens.append(token)\n",
    "    stems = [stemmer.stem(t) for t in filtered_tokens]\n",
    "    return stems\n",
    "\n",
    "def tokenize_only(sentences):\n",
    "    tokens = [word.lower() for sent in sentences\n",
    "              for word in nltk.word_tokenize(sent)]\n",
    "    filtered_tokens = []\n",
    "    for token in tokens:\n",
    "        if re.search('[a-zA-Z]', token):\n",
    "            filtered_tokens.append(token)\n",
    "    return filtered_tokens"
   ]
  },
  {
   "cell_type": "markdown",
   "metadata": {},
   "source": [
    "#### Make vocabulary\n",
    "stemmmed and not-stemmed"
   ]
  },
  {
   "cell_type": "code",
   "execution_count": 15,
   "metadata": {
    "collapsed": false
   },
   "outputs": [],
   "source": [
    "totalvocab_stemmed = []\n",
    "totalvocab_tokenized = []\n",
    "allwords_stemmed = tokenize_and_stem(article['sentences'].values())\n",
    "totalvocab_stemmed.extend(allwords_stemmed)\n",
    "\n",
    "allwords_tokenized = tokenize_only(article['sentences'].values())\n",
    "totalvocab_tokenized.extend(allwords_tokenized)"
   ]
  },
  {
   "cell_type": "markdown",
   "metadata": {},
   "source": [
    "#### Pandas data frame to visualize the vocabulary"
   ]
  },
  {
   "cell_type": "code",
   "execution_count": 24,
   "metadata": {
    "collapsed": false
   },
   "outputs": [
    {
     "name": "stdout",
     "output_type": "stream",
     "text": [
      "there are 3352 items in vocab_frame\n",
      "here are the first words in the vocabulary\n"
     ]
    },
    {
     "data": {
      "text/html": [
       "<div>\n",
       "<table border=\"1\" class=\"dataframe\">\n",
       "  <thead>\n",
       "    <tr style=\"text-align: right;\">\n",
       "      <th></th>\n",
       "      <th>words</th>\n",
       "    </tr>\n",
       "  </thead>\n",
       "  <tbody>\n",
       "    <tr>\n",
       "      <th>to</th>\n",
       "      <td>to</td>\n",
       "    </tr>\n",
       "    <tr>\n",
       "      <th>those</th>\n",
       "      <td>those</td>\n",
       "    </tr>\n",
       "    <tr>\n",
       "      <th>corrupt</th>\n",
       "      <td>corrupted</td>\n",
       "    </tr>\n",
       "    <tr>\n",
       "      <th>by</th>\n",
       "      <td>by</td>\n",
       "    </tr>\n",
       "    <tr>\n",
       "      <th>greed</th>\n",
       "      <td>greed</td>\n",
       "    </tr>\n",
       "  </tbody>\n",
       "</table>\n",
       "</div>"
      ],
      "text/plain": [
       "             words\n",
       "to              to\n",
       "those        those\n",
       "corrupt  corrupted\n",
       "by              by\n",
       "greed        greed"
      ]
     },
     "execution_count": 24,
     "metadata": {},
     "output_type": "execute_result"
    }
   ],
   "source": [
    "vocab_frame = pd.DataFrame({'words': totalvocab_tokenized},\n",
    "                          index = totalvocab_stemmed)\n",
    "print 'there are ' + str(vocab_frame.shape[0]) + ' items in vocab_frame'\n",
    "print 'here are the first words in the vocabulary'\n",
    "vocab_frame.head()"
   ]
  },
  {
   "cell_type": "markdown",
   "metadata": {},
   "source": [
    "### TF-IDF and document similarity"
   ]
  },
  {
   "cell_type": "code",
   "execution_count": 26,
   "metadata": {
    "collapsed": false
   },
   "outputs": [
    {
     "name": "stdout",
     "output_type": "stream",
     "text": [
      "CPU times: user 2.12 s, sys: 24.9 ms, total: 2.14 s\n",
      "Wall time: 2.14 s\n",
      "(190, 120)\n"
     ]
    }
   ],
   "source": [
    "from sklearn.feature_extraction.text import TfidfVectorizer\n",
    "\n",
    "tfidf_vectorizer = TfidfVectorizer(max_df=0.8, max_features=20000,\n",
    "                                  min_df=0.2, stop_words='english',\n",
    "                                  use_idf=True, tokenizer=tokenize_and_stem,\n",
    "                                  ngram_range=(1,3))\n",
    "%time tfidf_matrix = tfidf_vectorizer.fit_transform(article['sentences'].values())\n",
    "\n",
    "print tfidf_matrix.shape"
   ]
  },
  {
   "cell_type": "code",
   "execution_count": 28,
   "metadata": {
    "collapsed": true
   },
   "outputs": [],
   "source": [
    "terms = tfidf_vectorizer.get_feature_names()"
   ]
  },
  {
   "cell_type": "markdown",
   "metadata": {},
   "source": [
    "#### Cosine Similarity"
   ]
  },
  {
   "cell_type": "code",
   "execution_count": 29,
   "metadata": {
    "collapsed": true
   },
   "outputs": [],
   "source": [
    "from sklearn.metrics.pairwise import cosine_similarity\n",
    "dist = 1 - cosine_similarity(tfidf_matrix)\n",
    "dist_frame = DataFrame(dist)\n",
    "print dist"
   ]
  },
  {
   "cell_type": "markdown",
   "metadata": {},
   "source": [
    "### K-means clustering"
   ]
  },
  {
   "cell_type": "code",
   "execution_count": 30,
   "metadata": {
    "collapsed": false
   },
   "outputs": [
    {
     "name": "stdout",
     "output_type": "stream",
     "text": [
      "CPU times: user 91.5 ms, sys: 2.37 ms, total: 93.9 ms\n",
      "Wall time: 99 ms\n"
     ]
    }
   ],
   "source": [
    "from sklearn.cluster import KMeans\n",
    "\n",
    "num_clusters = 5\n",
    "km = KMeans(n_clusters=num_clusters)\n",
    "\n",
    "%time km.fit(tfidf_matrix)\n",
    "clusters = km.labels_.tolist()"
   ]
  },
  {
   "cell_type": "code",
   "execution_count": 32,
   "metadata": {
    "collapsed": false
   },
   "outputs": [
    {
     "data": {
      "text/plain": [
       "190"
      ]
     },
     "execution_count": 32,
     "metadata": {},
     "output_type": "execute_result"
    }
   ],
   "source": [
    "clusters"
   ]
  },
  {
   "cell_type": "markdown",
   "metadata": {},
   "source": [
    "#### Multidimensional scaling to plot?"
   ]
  },
  {
   "cell_type": "code",
   "execution_count": 33,
   "metadata": {
    "collapsed": true
   },
   "outputs": [],
   "source": [
    "import os\n",
    "import matplotlib.pyplot as plt\n",
    "import matplotlib as mpl\n",
    "from sklearn.manifold import MDS\n",
    "\n",
    "MDS()\n",
    "mds = MDS(n_components=2, dissimilarity=\"precomputed\", random_state=1)\n",
    "pos = mds.fit_transform(dist)\n",
    "\n",
    "xs, ys = pos[:,0], pos[:, 1]"
   ]
  },
  {
   "cell_type": "markdown",
   "metadata": {},
   "source": [
    "#### Plot"
   ]
  },
  {
   "cell_type": "code",
   "execution_count": 39,
   "metadata": {
    "collapsed": false
   },
   "outputs": [
    {
     "data": {
      "image/png": "[encoded data removed]",
      "text/plain": [
       "<matplotlib.figure.Figure at 0x116e40ed0>"
      ]
     },
     "metadata": {},
     "output_type": "display_data"
    }
   ],
   "source": [
    "cluster_colors = {0: '#1b9e77', 1: '#d95f02', 2: '#7570b3', 3: '#e7298a', 4: '#66a61e'}\n",
    "cluster_names = {0: 'C0',\n",
    "                 1: 'C1',\n",
    "                 2: 'C2',\n",
    "                 3: 'C3',\n",
    "                 4: 'C4'}\n",
    "\n",
    "# iPython now will show matplotlib plots inline\n",
    "%matplotlib inline\n",
    "\n",
    "df = pd.DataFrame(dict(x=xs, y=ys, label=clusters, title=[\"s{0}\".format(x) for x in range(190)]))\n",
    "\n",
    "groups = df.groupby('label')\n",
    "\n",
    "### set up the plot\n",
    "fig, ax = plt.subplots(figsize=(17,9))\n",
    "ax.margins(0.05)\n",
    "for name, group in groups:\n",
    "    ax.plot(group.x, group.y, marker='o', linestyle='',\n",
    "           ms=12, label=cluster_names[name], color=cluster_colors[name],\n",
    "           mec='none')\n",
    "    ax.set_aspect('auto')\n",
    "    ax.tick_params(\\\n",
    "        axis='x',\n",
    "        which='both',\n",
    "        bottom='off',\n",
    "        top='off',\n",
    "        labelbottom='off')\n",
    "    ax.tick_params(\\\n",
    "        axis='y',\n",
    "        which='both',\n",
    "        left='off',\n",
    "        top='off',\n",
    "        labelleft='off')\n",
    "ax.legend(numpoints=1)\n",
    "\n",
    "for i in range(len(df)):\n",
    "    ax.text(df.ix[i]['x'], df.ix[i]['y'], df.ix[i]['title'],\n",
    "           size=8)\n",
    "    \n",
    "plt.show()\n"
   ]
  },
  {
   "cell_type": "code",
   "execution_count": 41,
   "metadata": {
    "collapsed": false
   },
   "outputs": [
    {
     "name": "stdout",
     "output_type": "stream",
     "text": [
      "[ScepticOptimist ] And it is exactly the only way we can regain our freedom - a British spring ; mass protest & civil disobedience . \n",
      "Large numbers of web apps and traffic is ssl encrypted now so why bother creating a massive fiber intercept program if you could n't see 60 % + of all the traffic and almost all of the communications data ? \n",
      "[nowwhataretheyupto] so this is why the government go easy on these toss pots not paying corporation tax . \n",
      "[ Malkatrinho] that 's a lovely shade of green . \n"
     ]
    }
   ],
   "source": [
    "print article['sentences']['s151']\n",
    "print article['sentences']['s170']\n",
    "print article['sentences']['s171']\n",
    "print article['sentences']['s108']"
   ]
  },
  {
   "cell_type": "code",
   "execution_count": 43,
   "metadata": {
    "collapsed": false
   },
   "outputs": [
    {
     "name": "stdout",
     "output_type": "stream",
     "text": [
      "With luck we might even stage mass demonstrations demanding our rights . \n",
      "They 're terrified that the same kind of mass protests that swept Brazil , Turkey , Bulgaria or the Middle East will eventually be provoked in the West . \n",
      "cui bonno ? \n",
      "Lots of ISPs use them for their transatlantic traffic . \n"
     ]
    }
   ],
   "source": [
    "print article['sentences']['s93']\n",
    "print article['sentences']['s150']\n",
    "print article['sentences']['s114']\n",
    "print article['sentences']['s110']"
   ]
  },
  {
   "cell_type": "markdown",
   "metadata": {},
   "source": [
    "## Hierarchical document clustering\n",
    "The *Ward clustering algorithm* !!!!"
   ]
  },
  {
   "cell_type": "code",
   "execution_count": null,
   "metadata": {
    "collapsed": true
   },
   "outputs": [],
   "source": [
    "from scipy.cluster.hierarchy import ward, dendrogram\n",
    "linkage_matrix = ward(dist) #define the linkage_matrix\n",
    "# using ward clustering pre-computed distances\n",
    "\n",
    "fig, ax = plt.subplots(figsize=(15,20)) # set size\n",
    "ax = dendrogram(linkage_matrix, orientation=\"right\", labels=titles)\n",
    "\n",
    "plt.tick_params(\\\n",
    "               axis = 'x',\n",
    "               which ='both',\n",
    "               bottom ='off',\n",
    "               top = 'off',\n",
    "               labelbottom = 'off')\n",
    "\n",
    "plt.tight_layout()\n",
    "\n",
    "plt.savefig('ward_clusters.png', dpi=200) "
   ]
  },
  {
   "cell_type": "code",
   "execution_count": null,
   "metadata": {
    "collapsed": true
   },
   "outputs": [],
   "source": []
  }
 ],
 "metadata": {
  "kernelspec": {
   "display_name": "Python 2",
   "language": "python",
   "name": "python2"
  },
  "language_info": {
   "codemirror_mode": {
    "name": "ipython",
    "version": 2
   },
   "file_extension": ".py",
   "mimetype": "text/x-python",
   "name": "python",
   "nbconvert_exporter": "python",
   "pygments_lexer": "ipython2",
   "version": "2.7.9"
  }
 },
 "nbformat": 4,
 "nbformat_minor": 0
}
